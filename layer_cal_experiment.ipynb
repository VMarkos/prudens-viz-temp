{
 "cells": [
  {
   "cell_type": "code",
   "execution_count": 7,
   "id": "94e7c8ca-4734-46d0-8f91-95234fddcff5",
   "metadata": {},
   "outputs": [],
   "source": [
    "import pygraphviz as pgv"
   ]
  },
  {
   "cell_type": "markdown",
   "id": "95655dea-d39f-4842-85ad-de866eb6ec21",
   "metadata": {},
   "source": [
    "### Node Information"
   ]
  },
  {
   "cell_type": "code",
   "execution_count": 8,
   "id": "07920add-05ca-4816-9f5a-9e6d79310c09",
   "metadata": {},
   "outputs": [],
   "source": [
    "node_info = {\n",
    "    0: \"a\",\n",
    "    1: \"b\",\n",
    "    2: \"x\",\n",
    "    3: \"R1\",\n",
    "    4: \"z\",\n",
    "    5: \"R3\",\n",
    "    6: \"y\",\n",
    "    7: \"R4\",\n",
    "    8: \"R5\",\n",
    "    9: \"R2\"\n",
    "}"
   ]
  },
  {
   "cell_type": "markdown",
   "id": "a611a666-4668-461c-84d8-43555e00aac0",
   "metadata": {},
   "source": [
    "### Edge Information"
   ]
  },
  {
   "cell_type": "code",
   "execution_count": 9,
   "id": "c017d3bc-3467-4523-a4c4-8db38c2f32df",
   "metadata": {},
   "outputs": [],
   "source": [
    "graph_matrix = [\n",
    "    [0, 0, 0, 1, 0, 1, 0, 3, 3, 0],  \n",
    "    [0, 0, 0, 1, 0, 0, 0, 3, 0, 0],\n",
    "    [0, 0, 0, 0, 0, 1, 0, 0, 0, 3],\n",
    "    [0, 0, 1, 0, 0, 0, 0, 0, 0, 0],\n",
    "    [0, 0, 0, 0, 0, 0, 0, 0, 0, 0],\n",
    "    [0, 0, 0, 0, 2, 0, 0, 0, 0, 5],\n",
    "    [0, 0, 0, 0, 0, 0, 0, 0, 0, 0],\n",
    "    [0, 0, 0, 0, 0, 0, 3, 0, 6, 0],\n",
    "    [0, 0, 0, 0, 0, 0, 4, 6, 0, 0],\n",
    "    [0, 0, 0, 0, 3, 0, 0, 0, 0, 0]\n",
    "]"
   ]
  },
  {
   "cell_type": "markdown",
   "id": "fe448c27-d7bd-4c1c-af9f-cfd7e52d7b97",
   "metadata": {},
   "source": [
    "### Calculate the Layers"
   ]
  },
  {
   "cell_type": "code",
   "execution_count": 13,
   "id": "99b6afdf-c431-4fdc-8e49-763d9cd69f3f",
   "metadata": {},
   "outputs": [],
   "source": [
    "def get_layer_info(graph_matrix, node_info):\n",
    "    graph = pgv.AGraph(directed=True)\n",
    "    \n",
    "    # Create nodes and edges based on the input graph_matrix\n",
    "    for i, row in enumerate(graph_matrix):\n",
    "        graph.add_node(i, label=node_info[i])  # Add node with label from node_info\n",
    "        for j, value in enumerate(row):\n",
    "            if value != 0:\n",
    "                graph.add_edge(i, j)\n",
    "\n",
    "    graph.layout(prog='dot')\n",
    "    \n",
    "    layers = {}\n",
    "    for node in graph.nodes():\n",
    "        # Using the node label instead of the node index as the key\n",
    "        layers[node_info[int(node)]] = float(node.attr['pos'].split(\",\")[1])\n",
    "\n",
    "    unique_layers = sorted(set(layers.values()), reverse=True)\n",
    "    layer_mapping = {layer: i + 1 for i, layer in enumerate(unique_layers)}\n",
    "    \n",
    "    # Adjusting keys to be node labels instead of indices\n",
    "    node_to_layer = {node_info[int(node)]: layer_mapping[layers[node_info[int(node)]]] - 1 for node in graph.nodes()}\n",
    "    \n",
    "    layer_summary = {}\n",
    "    for layer in node_to_layer.values():\n",
    "        layer_summary[layer] = layer_summary.get(layer, 0) + 1\n",
    "    \n",
    "    layers = {\"layers\":node_to_layer, \"layerCounts\": layer_summary}\n",
    "    return layers"
   ]
  },
  {
   "cell_type": "code",
   "execution_count": 14,
   "id": "0ec76d0e-c8ba-433d-82ba-07d71b45f777",
   "metadata": {},
   "outputs": [
    {
     "data": {
      "text/plain": [
       "{'layers': {'a': 0,\n",
       "  'R1': 1,\n",
       "  'R3': 3,\n",
       "  'R4': 1,\n",
       "  'R5': 2,\n",
       "  'x': 2,\n",
       "  'R2': 4,\n",
       "  'z': 5,\n",
       "  'y': 3,\n",
       "  'b': 0},\n",
       " 'layerCounts': {0: 2, 1: 2, 3: 2, 2: 2, 4: 1, 5: 1}}"
      ]
     },
     "execution_count": 14,
     "metadata": {},
     "output_type": "execute_result"
    }
   ],
   "source": [
    "get_layer_info(graph_matrix, node_info)"
   ]
  },
  {
   "cell_type": "code",
   "execution_count": null,
   "id": "c4ccce1b-fa9d-4a9a-af8d-6996aaab9366",
   "metadata": {},
   "outputs": [],
   "source": [
    "# graph_string = \"\"\"\n",
    "# digraph {\n",
    "#  \"a\";\n",
    "#  \"b\";\n",
    "#  \"x\";\n",
    "#  \"R1\";\n",
    "#  \"z\";\n",
    "#  \"R3\";\n",
    "#  \"y\";\n",
    "#  \"R4\";\n",
    "#  \"R5\";\n",
    "#  \"R2\";\n",
    "#  \"a\" -> \"R1\";\n",
    "#  \"a\" -> \"R3\";\n",
    "#  \"a\" -> \"R4\";\n",
    "#  \"a\" -> \"R5\";\n",
    "#  \"b\" -> \"R1\";\n",
    "#  \"b\" -> \"R4\";\n",
    "#  \"x\" -> \"R3\";\n",
    "#  \"x\" -> \"R2\";\n",
    "#  \"R1\" -> \"x\";\n",
    "#  \"R3\" -> \"z\";\n",
    "#  \"R4\" -> \"y\";\n",
    "#  \"R5\" -> \"y\";\n",
    "#  \"R2\" -> \"z\";\n",
    "# }\n",
    "# \"\"\""
   ]
  },
  {
   "cell_type": "code",
   "execution_count": null,
   "id": "ffd333fa-cf68-4761-8c92-14635ee5afba",
   "metadata": {},
   "outputs": [],
   "source": [
    "# node_to_layer, layer_summary = get_layer_info(graph_string)\n",
    "# layers={\"layers\": node_to_layer, \"layerCounts\":layer_summary}"
   ]
  },
  {
   "cell_type": "code",
   "execution_count": null,
   "id": "3c140215-5e36-4882-bf78-55342df93803",
   "metadata": {},
   "outputs": [],
   "source": [
    "# layers"
   ]
  }
 ],
 "metadata": {
  "kernelspec": {
   "display_name": "Python 3 (ipykernel)",
   "language": "python",
   "name": "python3"
  },
  "language_info": {
   "codemirror_mode": {
    "name": "ipython",
    "version": 3
   },
   "file_extension": ".py",
   "mimetype": "text/x-python",
   "name": "python",
   "nbconvert_exporter": "python",
   "pygments_lexer": "ipython3",
   "version": "3.10.8"
  }
 },
 "nbformat": 4,
 "nbformat_minor": 5
}
