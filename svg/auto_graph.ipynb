{
 "cells": [
  {
   "cell_type": "code",
   "execution_count": 1,
   "id": "2f17a5a2-41ae-489a-943c-79ecdc8a1004",
   "metadata": {},
   "outputs": [],
   "source": [
    "import json\n",
    "from pruden_vis import *"
   ]
  },
  {
   "cell_type": "markdown",
   "id": "18b6129c-e76a-4984-9641-b0ece5f2a001",
   "metadata": {
    "tags": []
   },
   "source": [
    "## Import JSON"
   ]
  },
  {
   "cell_type": "code",
   "execution_count": 2,
   "id": "56dabd01-1134-4af7-89d5-566557442dc7",
   "metadata": {},
   "outputs": [],
   "source": [
    "f_output = open('mock_data/test_005.json')\n",
    "data = json.load(f_output)"
   ]
  },
  {
   "cell_type": "code",
   "execution_count": 3,
   "id": "aae7bf60-ec94-4044-b734-6ffbaed4293f",
   "metadata": {},
   "outputs": [],
   "source": [
    "rule_node_ls, rule_body, rule_head, node_layer,edges_ls, defeated_rule_node_ls, defeated_edges_ls=prepare_vis(data)\n",
    "layer_assign(rule_node_ls, rule_body, rule_head, node_layer)\n",
    "vis_pruden(node_layer, edges_ls, defeated_rule_node_ls,defeated_edges_ls)"
   ]
  }
 ],
 "metadata": {
  "kernelspec": {
   "display_name": "Python 3 (ipykernel)",
   "language": "python",
   "name": "python3"
  },
  "language_info": {
   "codemirror_mode": {
    "name": "ipython",
    "version": 3
   },
   "file_extension": ".py",
   "mimetype": "text/x-python",
   "name": "python",
   "nbconvert_exporter": "python",
   "pygments_lexer": "ipython3",
   "version": "3.8.13"
  }
 },
 "nbformat": 4,
 "nbformat_minor": 5
}
