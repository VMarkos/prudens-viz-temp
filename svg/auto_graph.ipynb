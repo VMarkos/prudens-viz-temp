{
 "cells": [
  {
   "cell_type": "code",
   "execution_count": 5,
   "id": "2f17a5a2-41ae-489a-943c-79ecdc8a1004",
   "metadata": {},
   "outputs": [],
   "source": [
    "import json\n",
    "from pruden_vis import *"
   ]
  },
  {
   "cell_type": "markdown",
   "id": "18b6129c-e76a-4984-9641-b0ece5f2a001",
   "metadata": {
    "tags": []
   },
   "source": [
    "## Import JSON"
   ]
  },
  {
   "cell_type": "code",
   "execution_count": 3,
   "id": "56dabd01-1134-4af7-89d5-566557442dc7",
   "metadata": {},
   "outputs": [],
   "source": [
    "f_output = open('mock_data/test_004.json')\n",
    "data = json.load(f_output)"
   ]
  },
  {
   "cell_type": "code",
   "execution_count": 4,
   "id": "aae7bf60-ec94-4044-b734-6ffbaed4293f",
   "metadata": {},
   "outputs": [
    {
     "ename": "TypeError",
     "evalue": "string indices must be integers",
     "output_type": "error",
     "traceback": [
      "\u001b[1;31m---------------------------------------------------------------------------\u001b[0m",
      "\u001b[1;31mTypeError\u001b[0m                                 Traceback (most recent call last)",
      "Input \u001b[1;32mIn [4]\u001b[0m, in \u001b[0;36m<cell line: 1>\u001b[1;34m()\u001b[0m\n\u001b[1;32m----> 1\u001b[0m rule_node_ls, rule_body, rule_head, node_layer,edges_ls, defeated_rule_node_ls, defeated_edges_ls\u001b[38;5;241m=\u001b[39m\u001b[43mprepare_vis\u001b[49m\u001b[43m(\u001b[49m\u001b[43mdata\u001b[49m\u001b[43m)\u001b[49m\n\u001b[0;32m      2\u001b[0m layer_assign(rule_node_ls, rule_body, rule_head, node_layer)\n\u001b[0;32m      3\u001b[0m vis_pruden(node_layer, edges_ls, defeated_rule_node_ls,defeated_edges_ls)\n",
      "File \u001b[1;32mD:\\pruden\\pruden_vis.py:34\u001b[0m, in \u001b[0;36mprepare_vis\u001b[1;34m(data)\u001b[0m\n\u001b[0;32m     32\u001b[0m rule_body\u001b[38;5;241m=\u001b[39mrule[dict_id][\u001b[38;5;124m\"\u001b[39m\u001b[38;5;124mbody\u001b[39m\u001b[38;5;124m\"\u001b[39m]\n\u001b[0;32m     33\u001b[0m \u001b[38;5;28;01mfor\u001b[39;00m literal \u001b[38;5;129;01min\u001b[39;00m rule_body:\n\u001b[1;32m---> 34\u001b[0m     \u001b[38;5;28;01mif\u001b[39;00m \u001b[43mliteral\u001b[49m\u001b[43m[\u001b[49m\u001b[38;5;124;43m\"\u001b[39;49m\u001b[38;5;124;43msign\u001b[39;49m\u001b[38;5;124;43m\"\u001b[39;49m\u001b[43m]\u001b[49m \u001b[38;5;241m==\u001b[39m \u001b[38;5;28;01mFalse\u001b[39;00m:\n\u001b[0;32m     35\u001b[0m         edges_ls\u001b[38;5;241m.\u001b[39mappend((\u001b[38;5;124m\"\u001b[39m\u001b[38;5;124m-\u001b[39m\u001b[38;5;124m\"\u001b[39m\u001b[38;5;241m+\u001b[39mliteral[\u001b[38;5;124m\"\u001b[39m\u001b[38;5;124mname\u001b[39m\u001b[38;5;124m\"\u001b[39m], rule_name))\n\u001b[0;32m     36\u001b[0m     \u001b[38;5;28;01melse\u001b[39;00m:\n",
      "\u001b[1;31mTypeError\u001b[0m: string indices must be integers"
     ]
    }
   ],
   "source": [
    "rule_node_ls, rule_body, rule_head, node_layer,edges_ls, defeated_rule_node_ls, defeated_edges_ls=prepare_vis(data)\n",
    "layer_assign(rule_node_ls, rule_body, rule_head, node_layer)\n",
    "vis_pruden(node_layer, edges_ls, defeated_rule_node_ls,defeated_edges_ls)"
   ]
  },
  {
   "cell_type": "code",
   "execution_count": null,
   "id": "22fd2cf9-a838-4d62-a2c2-6800be7fe389",
   "metadata": {},
   "outputs": [],
   "source": []
  }
 ],
 "metadata": {
  "kernelspec": {
   "display_name": "Python 3 (ipykernel)",
   "language": "python",
   "name": "python3"
  },
  "language_info": {
   "codemirror_mode": {
    "name": "ipython",
    "version": 3
   },
   "file_extension": ".py",
   "mimetype": "text/x-python",
   "name": "python",
   "nbconvert_exporter": "python",
   "pygments_lexer": "ipython3",
   "version": "3.8.13"
  }
 },
 "nbformat": 4,
 "nbformat_minor": 5
}
